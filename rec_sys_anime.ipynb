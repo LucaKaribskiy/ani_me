{
 "cells": [
  {
   "cell_type": "markdown",
   "metadata": {},
   "source": [
    "### В этом коде мы используем два основных подхода: content-based filtering и collaborative filtering. Content-based filtering рекомендует аниме, похожие на то, которое пользователь уже посмотрел, на основе жанров. Collaborative filtering использует оценки других пользователей для предсказания того, что может понравиться конкретному пользователю. Гибридная система комбинирует оба этих подхода для более точных рекомендаций."
   ]
  },
  {
   "cell_type": "code",
   "execution_count": 2,
   "metadata": {},
   "outputs": [],
   "source": [
    "import pandas as pd\n",
    "from sklearn.feature_extraction.text import TfidfVectorizer\n",
    "from sklearn.metrics.pairwise import cosine_similarity\n",
    "from scipy.sparse import csr_matrix\n",
    "from scipy.sparse.linalg import svds\n",
    "import numpy as np"
   ]
  },
  {
   "cell_type": "code",
   "execution_count": 3,
   "metadata": {},
   "outputs": [
    {
     "data": {
      "text/html": [
       "<div>\n",
       "<style scoped>\n",
       "    .dataframe tbody tr th:only-of-type {\n",
       "        vertical-align: middle;\n",
       "    }\n",
       "\n",
       "    .dataframe tbody tr th {\n",
       "        vertical-align: top;\n",
       "    }\n",
       "\n",
       "    .dataframe thead th {\n",
       "        text-align: right;\n",
       "    }\n",
       "</style>\n",
       "<table border=\"1\" class=\"dataframe\">\n",
       "  <thead>\n",
       "    <tr style=\"text-align: right;\">\n",
       "      <th></th>\n",
       "      <th>user_id</th>\n",
       "      <th>anime_id</th>\n",
       "      <th>rating</th>\n",
       "      <th>name</th>\n",
       "      <th>genre</th>\n",
       "      <th>type</th>\n",
       "      <th>episodes</th>\n",
       "      <th>members</th>\n",
       "    </tr>\n",
       "  </thead>\n",
       "  <tbody>\n",
       "    <tr>\n",
       "      <th>0</th>\n",
       "      <td>1</td>\n",
       "      <td>20</td>\n",
       "      <td>-1</td>\n",
       "      <td>Naruto</td>\n",
       "      <td>Action, Comedy, Martial Arts, Shounen, Super P...</td>\n",
       "      <td>TV</td>\n",
       "      <td>220</td>\n",
       "      <td>683297</td>\n",
       "    </tr>\n",
       "    <tr>\n",
       "      <th>1</th>\n",
       "      <td>3</td>\n",
       "      <td>20</td>\n",
       "      <td>8</td>\n",
       "      <td>Naruto</td>\n",
       "      <td>Action, Comedy, Martial Arts, Shounen, Super P...</td>\n",
       "      <td>TV</td>\n",
       "      <td>220</td>\n",
       "      <td>683297</td>\n",
       "    </tr>\n",
       "    <tr>\n",
       "      <th>2</th>\n",
       "      <td>5</td>\n",
       "      <td>20</td>\n",
       "      <td>6</td>\n",
       "      <td>Naruto</td>\n",
       "      <td>Action, Comedy, Martial Arts, Shounen, Super P...</td>\n",
       "      <td>TV</td>\n",
       "      <td>220</td>\n",
       "      <td>683297</td>\n",
       "    </tr>\n",
       "    <tr>\n",
       "      <th>3</th>\n",
       "      <td>6</td>\n",
       "      <td>20</td>\n",
       "      <td>-1</td>\n",
       "      <td>Naruto</td>\n",
       "      <td>Action, Comedy, Martial Arts, Shounen, Super P...</td>\n",
       "      <td>TV</td>\n",
       "      <td>220</td>\n",
       "      <td>683297</td>\n",
       "    </tr>\n",
       "    <tr>\n",
       "      <th>4</th>\n",
       "      <td>10</td>\n",
       "      <td>20</td>\n",
       "      <td>-1</td>\n",
       "      <td>Naruto</td>\n",
       "      <td>Action, Comedy, Martial Arts, Shounen, Super P...</td>\n",
       "      <td>TV</td>\n",
       "      <td>220</td>\n",
       "      <td>683297</td>\n",
       "    </tr>\n",
       "    <tr>\n",
       "      <th>5</th>\n",
       "      <td>21</td>\n",
       "      <td>20</td>\n",
       "      <td>8</td>\n",
       "      <td>Naruto</td>\n",
       "      <td>Action, Comedy, Martial Arts, Shounen, Super P...</td>\n",
       "      <td>TV</td>\n",
       "      <td>220</td>\n",
       "      <td>683297</td>\n",
       "    </tr>\n",
       "    <tr>\n",
       "      <th>6</th>\n",
       "      <td>28</td>\n",
       "      <td>20</td>\n",
       "      <td>9</td>\n",
       "      <td>Naruto</td>\n",
       "      <td>Action, Comedy, Martial Arts, Shounen, Super P...</td>\n",
       "      <td>TV</td>\n",
       "      <td>220</td>\n",
       "      <td>683297</td>\n",
       "    </tr>\n",
       "    <tr>\n",
       "      <th>7</th>\n",
       "      <td>34</td>\n",
       "      <td>20</td>\n",
       "      <td>9</td>\n",
       "      <td>Naruto</td>\n",
       "      <td>Action, Comedy, Martial Arts, Shounen, Super P...</td>\n",
       "      <td>TV</td>\n",
       "      <td>220</td>\n",
       "      <td>683297</td>\n",
       "    </tr>\n",
       "    <tr>\n",
       "      <th>8</th>\n",
       "      <td>38</td>\n",
       "      <td>20</td>\n",
       "      <td>6</td>\n",
       "      <td>Naruto</td>\n",
       "      <td>Action, Comedy, Martial Arts, Shounen, Super P...</td>\n",
       "      <td>TV</td>\n",
       "      <td>220</td>\n",
       "      <td>683297</td>\n",
       "    </tr>\n",
       "    <tr>\n",
       "      <th>9</th>\n",
       "      <td>39</td>\n",
       "      <td>20</td>\n",
       "      <td>10</td>\n",
       "      <td>Naruto</td>\n",
       "      <td>Action, Comedy, Martial Arts, Shounen, Super P...</td>\n",
       "      <td>TV</td>\n",
       "      <td>220</td>\n",
       "      <td>683297</td>\n",
       "    </tr>\n",
       "  </tbody>\n",
       "</table>\n",
       "</div>"
      ],
      "text/plain": [
       "   user_id  anime_id  rating    name  \\\n",
       "0        1        20      -1  Naruto   \n",
       "1        3        20       8  Naruto   \n",
       "2        5        20       6  Naruto   \n",
       "3        6        20      -1  Naruto   \n",
       "4       10        20      -1  Naruto   \n",
       "5       21        20       8  Naruto   \n",
       "6       28        20       9  Naruto   \n",
       "7       34        20       9  Naruto   \n",
       "8       38        20       6  Naruto   \n",
       "9       39        20      10  Naruto   \n",
       "\n",
       "                                               genre type episodes  members  \n",
       "0  Action, Comedy, Martial Arts, Shounen, Super P...   TV      220   683297  \n",
       "1  Action, Comedy, Martial Arts, Shounen, Super P...   TV      220   683297  \n",
       "2  Action, Comedy, Martial Arts, Shounen, Super P...   TV      220   683297  \n",
       "3  Action, Comedy, Martial Arts, Shounen, Super P...   TV      220   683297  \n",
       "4  Action, Comedy, Martial Arts, Shounen, Super P...   TV      220   683297  \n",
       "5  Action, Comedy, Martial Arts, Shounen, Super P...   TV      220   683297  \n",
       "6  Action, Comedy, Martial Arts, Shounen, Super P...   TV      220   683297  \n",
       "7  Action, Comedy, Martial Arts, Shounen, Super P...   TV      220   683297  \n",
       "8  Action, Comedy, Martial Arts, Shounen, Super P...   TV      220   683297  \n",
       "9  Action, Comedy, Martial Arts, Shounen, Super P...   TV      220   683297  "
      ]
     },
     "execution_count": 3,
     "metadata": {},
     "output_type": "execute_result"
    }
   ],
   "source": [
    "# Загрузка данных\n",
    "anime = pd.read_csv('anime.csv', nrows=10000)\n",
    "ratings = pd.read_csv('rating.csv', nrows=10000)\n",
    "\n",
    "# Объединение данных аниме и рейтингов по столбцу anime_id\n",
    "data = pd.merge(ratings, anime.drop('rating', axis=1), on='anime_id')\n",
    "# Удаляем дубликаты\n",
    "data.drop_duplicates(inplace=True)\n",
    "\n",
    "data.head(10)"
   ]
  },
  {
   "cell_type": "code",
   "execution_count": 4,
   "metadata": {},
   "outputs": [
    {
     "name": "stdout",
     "output_type": "stream",
     "text": [
      "<class 'pandas.core.frame.DataFrame'>\n",
      "RangeIndex: 9935 entries, 0 to 9934\n",
      "Data columns (total 8 columns):\n",
      " #   Column    Non-Null Count  Dtype \n",
      "---  ------    --------------  ----- \n",
      " 0   user_id   9935 non-null   int64 \n",
      " 1   anime_id  9935 non-null   int64 \n",
      " 2   rating    9935 non-null   int64 \n",
      " 3   name      9935 non-null   object\n",
      " 4   genre     9935 non-null   object\n",
      " 5   type      9935 non-null   object\n",
      " 6   episodes  9935 non-null   object\n",
      " 7   members   9935 non-null   int64 \n",
      "dtypes: int64(4), object(4)\n",
      "memory usage: 621.1+ KB\n"
     ]
    }
   ],
   "source": [
    "data.info()"
   ]
  },
  {
   "cell_type": "code",
   "execution_count": 23,
   "metadata": {},
   "outputs": [],
   "source": [
    "# Построение модели на основе содержания (Content-Based Filtering)\n",
    "# Используем TfidfVectorizer для преобразования жанров в числовые векторы\n",
    "tfidf = TfidfVectorizer(stop_words='english')\n",
    "tfidf_matrix = tfidf.fit_transform(data['genre'].fillna(''))  # Обработка NaN значений\n",
    "# Вычисляем косинусное сходство между аниме\n",
    "cosine_sim = cosine_similarity(tfidf_matrix, dense_output=False)"
   ]
  },
  {
   "cell_type": "code",
   "execution_count": 24,
   "metadata": {},
   "outputs": [],
   "source": [
    "def content_based_recommendations(title, df=data):\n",
    "    # Функция для получения рекомендаций на основе названия аниме\n",
    "    if title not in df['name'].values:\n",
    "        return pd.Series([], dtype=object)  # Если аниме не найдено, возвращаем пустой список\n",
    "    idx = df.index[df['name'] == title].tolist()[0]\n",
    "    sim_scores = list(enumerate(cosine_sim[idx].toarray().flatten()))\n",
    "    sim_scores = sorted(sim_scores, key=lambda x: x[1], reverse=True)\n",
    "    anime_indices = [i[0] for i in sim_scores]\n",
    "    return df['name'].iloc[anime_indices].head(10)"
   ]
  },
  {
   "cell_type": "code",
   "execution_count": 25,
   "metadata": {},
   "outputs": [],
   "source": [
    "# Collaborative Filtering\n",
    "# Создаем сводную таблицу рейтингов для каждого пользователя и аниме\n",
    "pivot_table = data.pivot_table(index='user_id', columns='anime_id', values='rating', aggfunc='mean').fillna(0)\n",
    "pivot_sparse = csr_matrix(pivot_table.values)\n",
    "# Применяем SVD (разложение матрицы) для извлечения скрытых факторов\n",
    "U, sigma, Vt = svds(pivot_sparse, k=50)  # Увеличиваем k для лучшей точности\n"
   ]
  },
  {
   "cell_type": "code",
   "execution_count": 26,
   "metadata": {},
   "outputs": [],
   "source": [
    "def collaborative_filtering(user_id, df=data, pivot=pivot_table):\n",
    "    # Функция для коллаборативной фильтрации\n",
    "    if user_id not in pivot.index:\n",
    "        return pd.Series([], dtype=object)  # Если пользователь не найден, возвращаем пустой список\n",
    "    user_index = pivot.index.tolist().index(user_id)\n",
    "    user_ratings = U[user_index]\n",
    "    predicted_ratings = user_ratings.dot(np.diag(sigma)).dot(Vt)\n",
    "    recommended_anime_ids = np.argsort(-predicted_ratings)[:10]\n",
    "    recommended_anime = df.loc[df['anime_id'].isin(recommended_anime_ids), 'name'].unique()\n",
    "    return pd.Series(recommended_anime)"
   ]
  },
  {
   "cell_type": "code",
   "execution_count": 27,
   "metadata": {},
   "outputs": [],
   "source": [
    "# Гибридная система\n",
    "def hybrid_recommendation(user_id, title):\n",
    "    # Функция для гибридных рекомендаций, объединяющая оба подхода\n",
    "    content_based = content_based_recommendations(title)\n",
    "    collaborative = collaborative_filtering(user_id)\n",
    "    \n",
    "    # Объединяем результаты и удаляем дубликаты\n",
    "    hybrid = pd.concat([content_based, collaborative]).drop_duplicates().head(10)\n",
    "    return hybrid"
   ]
  },
  {
   "cell_type": "code",
   "execution_count": 29,
   "metadata": {},
   "outputs": [
    {
     "name": "stdout",
     "output_type": "stream",
     "text": [
      "Рекомендации:\n",
      "0                              Naruto\n",
      "0     School Rumble Ichi Gakki Hoshuu\n",
      "1    Mermaid Melody Pichi Pichi Pitch\n",
      "2                Angel&#039;s Feather\n",
      "dtype: object\n"
     ]
    }
   ],
   "source": [
    "# Тестирование системы\n",
    "user_id_example = 1\n",
    "title_example = 'Naruto'\n",
    "print(\"Рекомендации:\")\n",
    "print(hybrid_recommendation(user_id_example, title_example))"
   ]
  }
 ],
 "metadata": {
  "kernelspec": {
   "display_name": ".venv",
   "language": "python",
   "name": "python3"
  },
  "language_info": {
   "codemirror_mode": {
    "name": "ipython",
    "version": 3
   },
   "file_extension": ".py",
   "mimetype": "text/x-python",
   "name": "python",
   "nbconvert_exporter": "python",
   "pygments_lexer": "ipython3",
   "version": "3.10.10"
  }
 },
 "nbformat": 4,
 "nbformat_minor": 2
}
